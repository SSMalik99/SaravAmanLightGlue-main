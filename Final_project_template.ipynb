{
 "cells": [
  {
   "cell_type": "markdown",
   "metadata": {},
   "source": [
    "# Title: LightGlue: Local Feature Matching at Light Speed\n",
    "\n",
    "#### Group Member Names : Amandeep Kaur, Saravjeet Singh\n",
    "\n"
   ]
  },
  {
   "cell_type": "markdown",
   "metadata": {},
   "source": [
    "### INTRODUCTION:\n",
    "*********************************************************************************************************************\n",
    "#### AIM : Feature Matching of Image by OpenCV and LightGlue\n",
    "\n",
    "*********************************************************************************************************************\n",
    "#### Github Repo: \n",
    "https://github.com/cvg/lightglue\n",
    "*********************************************************************************************************************\n",
    "#### DESCRIPTION OF PAPER:\n",
    "LightGlue is a deep neural network that matches sparse local features across image pairs.\n",
    "An adaptive mechanism makes it fast for easy pairs (top) and reduces the computational complexity for difficult ones (bottom).\n",
    "*********************************************************************************************************************\n",
    "#### PROBLEM STATEMENT :\n",
    "* Does OpenCV reflect any changes to the Lightglue Process\n",
    "* After Processing Image with OpenCV LightGlue time for processing is reduced to any extenct.\n",
    "*********************************************************************************************************************\n",
    "#### CONTEXT OF THE PROBLEM:\n",
    "* Finding correspondences between two images is a fundamental building block of many computer vision applications\n",
    "like camera tracking and 3D mapping. The most common\n",
    "approach to image matching relies on sparse interest points\n",
    "that are matched using high-dimensional representations encoding their local visual appearance\n",
    "*********************************************************************************************************************\n",
    "#### SOLUTION:\n",
    "* We are going to follow https://www.kaggle.com/code/raffelsbem98/image-matching-with-opencv-and-lightglue which is guiding us for the solution we used chatGPT to learn more about this problem and to find more solutions.\n"
   ]
  },
  {
   "cell_type": "markdown",
   "metadata": {},
   "source": [
    "# Background\n",
    "*********************************************************************************************************************\n",
    "\n",
    "\n",
    "|Reference|Explanation|Dataset/Input|Weakness|\n",
    "|------|------|------|------|\n",
    "\n",
    "\n",
    "\n",
    "*********************************************************************************************************************\n",
    "\n",
    "\n",
    "\n",
    "\n"
   ]
  },
  {
   "cell_type": "markdown",
   "metadata": {},
   "source": [
    "# Implement paper code :\n",
    "*********************************************************************************************************************\n",
    "\n",
    "* \n",
    "\n"
   ]
  },
  {
   "cell_type": "markdown",
   "metadata": {},
   "source": [
    "*********************************************************************************************************************\n",
    "### Contribution  Code :\n",
    "* "
   ]
  },
  {
   "cell_type": "markdown",
   "metadata": {},
   "source": [
    "### Results :\n",
    "*******************************************************************************************************************************\n",
    "\n",
    "\n",
    "#### Observations :\n",
    "*******************************************************************************************************************************\n",
    "* \n"
   ]
  },
  {
   "cell_type": "markdown",
   "metadata": {},
   "source": [
    "### Conclusion and Future Direction :\n",
    "*******************************************************************************************************************************\n",
    "#### Learnings : \n",
    "\n",
    "*******************************************************************************************************************************\n",
    "#### Results Discussion :\n",
    "\n",
    "\n",
    "*******************************************************************************************************************************\n",
    "#### Limitations :\n",
    "\n",
    "\n",
    "\n",
    "*******************************************************************************************************************************\n",
    "#### Future Extension :\n"
   ]
  },
  {
   "cell_type": "markdown",
   "metadata": {},
   "source": [
    "# References:\n",
    "\n",
    "[1]:  "
   ]
  },
  {
   "cell_type": "markdown",
   "metadata": {},
   "source": []
  }
 ],
 "metadata": {
  "kernelspec": {
   "display_name": "Python 3",
   "language": "python",
   "name": "python3"
  },
  "language_info": {
   "codemirror_mode": {
    "name": "ipython",
    "version": 3
   },
   "file_extension": ".py",
   "mimetype": "text/x-python",
   "name": "python",
   "nbconvert_exporter": "python",
   "pygments_lexer": "ipython3",
   "version": "3.8.5"
  }
 },
 "nbformat": 4,
 "nbformat_minor": 2
}
