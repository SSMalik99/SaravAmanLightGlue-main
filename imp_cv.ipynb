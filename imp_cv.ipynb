{
 "cells": [
  {
   "cell_type": "code",
   "execution_count": 5,
   "metadata": {},
   "outputs": [],
   "source": [
    "import cv2 \n",
    "import torch\n",
    "import numpy as np\n",
    "import matplotlib.pyplot as plt\n",
    "\n",
    "from lightglue import viz2d\n",
    "from lightglue import LightGlue, SuperPoint, DISK\n",
    "from lightglue.utils import numpy_image_to_torch, rbd"
   ]
  },
  {
   "cell_type": "code",
   "execution_count": 6,
   "metadata": {},
   "outputs": [],
   "source": [
    "class cfg:\n",
    "    img0 = \"/kaggle/input/balcony/img_left.jpg\"\n",
    "    img1 = \"/kaggle/input/balcony/img_right.jpg\"\n",
    "    \n",
    "    size = (512, 512)\n",
    "    interpolation = cv2.INTER_AREA\n",
    "    \n",
    "    opencv = {\n",
    "        \"extractor\": cv2.KAZE_create(),\n",
    "        \"normType\": cv2.NORM_L2,\n",
    "        \"crossCheck\": True, \n",
    "        \"homography\": {\n",
    "            \"method\": cv2.RANSAC,\n",
    "            \"ransacReprojThreshold\": 3.0\n",
    "        }\n",
    "    }\n",
    "    \n",
    "    lightglue = {\n",
    "        \"extractor\": \"SuperPoint\", # SuperPoint, DISK\n",
    "        \"device\": \"cpu\", # cpu, cuda\n",
    "        \"max_kpts\": 2048,\n",
    "        \"homography\": {\n",
    "            \"method\": cv2.RANSAC,\n",
    "            \"ransacReprojThreshold\": 3.0\n",
    "        }\n",
    "    }"
   ]
  },
  {
   "cell_type": "code",
   "execution_count": 8,
   "metadata": {},
   "outputs": [],
   "source": [
    "def load_img(file, size, interpolation):\n",
    "    img = cv2.imread(file)\n",
    "    img = cv2.cvtColor(img, cv2.COLOR_BGR2RGB)\n",
    "    img = cv2.resize(img, size, interpolation=interpolation)\n",
    "    return img\n",
    "\n",
    "\n",
    "def get_homography(src_pts, dst_pts, method, ransacReprojThreshold):\n",
    "    homography, mask = cv2.findHomography(\n",
    "        src_pts, \n",
    "        dst_pts, \n",
    "        method=method, \n",
    "        ransacReprojThreshold=ransacReprojThreshold\n",
    "    )\n",
    "    return homography, mask\n",
    "\n",
    "\n",
    "def plot_two_imgs(img0, img1, title=\"\"):\n",
    "    fig, axes = plt.subplots(1, 2, figsize=(10, 5))\n",
    "    axes[0].imshow(img0)\n",
    "    axes[0].axis(\"off\")\n",
    "    axes[0].set_title(title)\n",
    "    axes[1].imshow(img1)\n",
    "    axes[1].axis(\"off\")\n",
    "    axes[1].set_title(title)\n",
    "    plt.show()"
   ]
  },
  {
   "cell_type": "code",
   "execution_count": null,
   "metadata": {},
   "outputs": [],
   "source": [
    "def load_img(file, size, interpolation):\n",
    "    img = cv2.imread(file)\n",
    "    img = cv2.cvtColor(img, cv2.COLOR_BGR2RGB)\n",
    "    img = cv2.resize(img, size, interpolation=interpolation)\n",
    "    return img\n",
    "\n",
    "\n",
    "def get_homography(src_pts, dst_pts, method, ransacReprojThreshold):\n",
    "    homography, mask = cv2.findHomography(\n",
    "        src_pts, \n",
    "        dst_pts, \n",
    "        method=method, \n",
    "        ransacReprojThreshold=ransacReprojThreshold\n",
    "    )\n",
    "    return homography, mask\n",
    "\n",
    "\n",
    "def plot_two_imgs(img0, img1, title=\"\"):\n",
    "    fig, axes = plt.subplots(1, 2, figsize=(10, 5))\n",
    "    axes[0].imshow(img0)\n",
    "    axes[0].axis(\"off\")\n",
    "    axes[0].set_title(title)\n",
    "    axes[1].imshow(img1)\n",
    "    axes[1].axis(\"off\")\n",
    "    axes[1].set_title(title)\n",
    "    plt.show()"
   ]
  }
 ],
 "metadata": {
  "kernelspec": {
   "display_name": "Python 3",
   "language": "python",
   "name": "python3"
  },
  "language_info": {
   "codemirror_mode": {
    "name": "ipython",
    "version": 3
   },
   "file_extension": ".py",
   "mimetype": "text/x-python",
   "name": "python",
   "nbconvert_exporter": "python",
   "pygments_lexer": "ipython3",
   "version": "3.11.4"
  },
  "orig_nbformat": 4
 },
 "nbformat": 4,
 "nbformat_minor": 2
}
